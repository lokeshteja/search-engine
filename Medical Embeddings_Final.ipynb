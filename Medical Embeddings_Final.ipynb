{
 "cells": [
  {
   "cell_type": "markdown",
   "metadata": {},
   "source": [
    "# Medical Embeddings and clinical trial search engine"
   ]
  },
  {
   "cell_type": "code",
   "execution_count": null,
   "metadata": {},
   "outputs": [],
   "source": []
  },
  {
   "cell_type": "code",
   "execution_count": 1,
   "metadata": {},
   "outputs": [],
   "source": [
    "import streamlit as st  #importing streamlit liabrary"
   ]
  },
  {
   "cell_type": "code",
   "execution_count": 2,
   "metadata": {},
   "outputs": [],
   "source": [
    "import pandas as pd\n",
    "import numpy as np\n",
    "import gensim\n",
    "from gensim.models import Word2Vec\n",
    "from gensim.models import FastText\n",
    "from sklearn.decomposition import PCA\n",
    "from matplotlib import pyplot"
   ]
  },
  {
   "cell_type": "code",
   "execution_count": 3,
   "metadata": {},
   "outputs": [],
   "source": [
    "import nltk\n",
    "import ssl\n",
    "\n",
    "try:\n",
    "    _create_unverified_https_context = ssl._create_unverified_context\n",
    "except AttributeError:\n",
    "    # Legacy Python that doesn't verify HTTPS certificates by default\n",
    "    pass\n",
    "else:\n",
    "    # Handle target environment that doesn't support HTTPS verification\n",
    "    ssl._create_default_https_context = _create_unverified_https_context\n",
    "\n",
    "\n"
   ]
  },
  {
   "cell_type": "code",
   "execution_count": 10,
   "metadata": {},
   "outputs": [
    {
     "name": "stderr",
     "output_type": "stream",
     "text": [
      "[nltk_data] Downloading package stopwords to\n",
      "[nltk_data]     C:\\Users\\bsaih\\AppData\\Roaming\\nltk_data...\n",
      "[nltk_data]   Package stopwords is already up-to-date!\n",
      "[nltk_data] Downloading package wordnet to\n",
      "[nltk_data]     C:\\Users\\bsaih\\AppData\\Roaming\\nltk_data...\n",
      "[nltk_data]   Package wordnet is already up-to-date!\n",
      "[nltk_data] Downloading package punkt to\n",
      "[nltk_data]     C:\\Users\\bsaih\\AppData\\Roaming\\nltk_data...\n",
      "[nltk_data]   Package punkt is already up-to-date!\n"
     ]
    },
    {
     "data": {
      "text/plain": [
       "True"
      ]
     },
     "execution_count": 10,
     "metadata": {},
     "output_type": "execute_result"
    }
   ],
   "source": [
    "import matplotlib.pyplot as plt # our main display package\n",
    "import plotly.graph_objects as go\n",
    "import string # used for preprocessing\n",
    "import re # used for preprocessing\n",
    "import nltk # the Natural Language Toolkit, used for preprocessing\n",
    "import numpy as np # used for managing NaNs\n",
    "import nltk\n",
    "from nltk.tokenize import word_tokenize\n",
    "from nltk.corpus import stopwords # used for preprocessing\n",
    "from nltk.stem import WordNetLemmatizer # used for preprocessing\n",
    "from sklearn.model_selection import train_test_split\n",
    "nltk.download('stopwords')\n",
    "from nltk.corpus import stopwords  # Import stopwords list\n",
    "\n",
    "nltk.download('wordnet')\n",
    "nltk.download('punkt')"
   ]
  },
  {
   "cell_type": "markdown",
   "metadata": {},
   "source": [
    "# Importing datasets "
   ]
  },
  {
   "cell_type": "code",
   "execution_count": 11,
   "metadata": {},
   "outputs": [],
   "source": [
    "df=pd.read_csv('Dimension-covid.csv')   #for preprocessing\n",
    "df1=pd.read_csv('Dimension-covid.csv')  #for returning results"
   ]
  },
  {
   "cell_type": "markdown",
   "metadata": {},
   "source": [
    "# Preprocessing data "
   ]
  },
  {
   "cell_type": "code",
   "execution_count": 5,
   "metadata": {},
   "outputs": [
    {
     "data": {
      "text/html": [
       "<div>\n",
       "<style scoped>\n",
       "    .dataframe tbody tr th:only-of-type {\n",
       "        vertical-align: middle;\n",
       "    }\n",
       "\n",
       "    .dataframe tbody tr th {\n",
       "        vertical-align: top;\n",
       "    }\n",
       "\n",
       "    .dataframe thead th {\n",
       "        text-align: right;\n",
       "    }\n",
       "</style>\n",
       "<table border=\"1\" class=\"dataframe\">\n",
       "  <thead>\n",
       "    <tr style=\"text-align: right;\">\n",
       "      <th></th>\n",
       "      <th>Date added</th>\n",
       "      <th>Trial ID</th>\n",
       "      <th>Title</th>\n",
       "      <th>Brief title</th>\n",
       "      <th>Acronym</th>\n",
       "      <th>Abstract</th>\n",
       "      <th>Publication date</th>\n",
       "      <th>Active years</th>\n",
       "      <th>Phase</th>\n",
       "      <th>Conditions</th>\n",
       "      <th>...</th>\n",
       "      <th>Gender</th>\n",
       "      <th>Registry</th>\n",
       "      <th>Investigators/Contacts</th>\n",
       "      <th>Sponsors/Collaborators</th>\n",
       "      <th>GRID IDs</th>\n",
       "      <th>Country of Sponsor/Collaborator</th>\n",
       "      <th>Collaborating Funders</th>\n",
       "      <th>Funder Country</th>\n",
       "      <th>Source Linkout</th>\n",
       "      <th>Dimensions URL</th>\n",
       "    </tr>\n",
       "  </thead>\n",
       "  <tbody>\n",
       "    <tr>\n",
       "      <th>0</th>\n",
       "      <td>2021-06-04</td>\n",
       "      <td>NCT04912934</td>\n",
       "      <td>The Relationship Between Coronavirus Anxiety L...</td>\n",
       "      <td>The Relationship Between COVID-19 Anxiety Leve...</td>\n",
       "      <td>COVID-19</td>\n",
       "      <td>The aim was to determine the coronavirus anxie...</td>\n",
       "      <td>2020-06-20</td>\n",
       "      <td>2020</td>\n",
       "      <td>NaN</td>\n",
       "      <td>COVID-19; Emotional Eating; Metabolic Syndrome</td>\n",
       "      <td>...</td>\n",
       "      <td>All</td>\n",
       "      <td>ClinicalTrials.gov</td>\n",
       "      <td>Dilek Küçük Alemdar</td>\n",
       "      <td>Ordu University</td>\n",
       "      <td>grid.412366.4</td>\n",
       "      <td>Turkey</td>\n",
       "      <td>NaN</td>\n",
       "      <td>NaN</td>\n",
       "      <td>https://clinicaltrials.gov/show/NCT04912934</td>\n",
       "      <td>https://app.dimensions.ai/details/clinical_tri...</td>\n",
       "    </tr>\n",
       "    <tr>\n",
       "      <th>1</th>\n",
       "      <td>2021-06-04</td>\n",
       "      <td>NCT04912921</td>\n",
       "      <td>Effect of Palmitoylethanolamide on Proinflamma...</td>\n",
       "      <td>Effect of Palmitoylethanolamide on Proinflamma...</td>\n",
       "      <td>NaN</td>\n",
       "      <td>This is a randomized controlled trial to exami...</td>\n",
       "      <td>2020-10-20</td>\n",
       "      <td>2020; 2021; 2022</td>\n",
       "      <td>NaN</td>\n",
       "      <td>COVID19; Inflammation</td>\n",
       "      <td>...</td>\n",
       "      <td>All</td>\n",
       "      <td>ClinicalTrials.gov</td>\n",
       "      <td>NaN</td>\n",
       "      <td>Arizona State University</td>\n",
       "      <td>grid.215654.1</td>\n",
       "      <td>United States</td>\n",
       "      <td>NaN</td>\n",
       "      <td>NaN</td>\n",
       "      <td>https://clinicaltrials.gov/show/NCT04912921</td>\n",
       "      <td>https://app.dimensions.ai/details/clinical_tri...</td>\n",
       "    </tr>\n",
       "    <tr>\n",
       "      <th>2</th>\n",
       "      <td>2021-06-04</td>\n",
       "      <td>NCT04912895</td>\n",
       "      <td>Detection of SARS-CoV-2 RNA and Biomarkers in ...</td>\n",
       "      <td>Detection of SARS-CoV-2 RNA in Coughed Droplet...</td>\n",
       "      <td>NaN</td>\n",
       "      <td>The purpose of this study is to learn how to b...</td>\n",
       "      <td>2021-04-14</td>\n",
       "      <td>2021; 2022</td>\n",
       "      <td>NaN</td>\n",
       "      <td>Covid19</td>\n",
       "      <td>...</td>\n",
       "      <td>All</td>\n",
       "      <td>ClinicalTrials.gov</td>\n",
       "      <td>Larry Anderson</td>\n",
       "      <td>Emory University Hospital Midtown; Emory Unive...</td>\n",
       "      <td>grid.411929.6; grid.412162.2; grid.189967.8; g...</td>\n",
       "      <td>United States; United States; United States; U...</td>\n",
       "      <td>NaN</td>\n",
       "      <td>NaN</td>\n",
       "      <td>https://clinicaltrials.gov/show/NCT04912895</td>\n",
       "      <td>https://app.dimensions.ai/details/clinical_tri...</td>\n",
       "    </tr>\n",
       "    <tr>\n",
       "      <th>3</th>\n",
       "      <td>2021-06-04</td>\n",
       "      <td>NCT04912817</td>\n",
       "      <td>Pain Rehabilitation Virtual Reality (PR-VR) At...</td>\n",
       "      <td>PR-VR At-home Program During and After COVID-19</td>\n",
       "      <td>NaN</td>\n",
       "      <td>Poorly controlled chronic pain in teens can im...</td>\n",
       "      <td>2021-09-01</td>\n",
       "      <td>2021; 2022</td>\n",
       "      <td>NaN</td>\n",
       "      <td>Pain, Chronic</td>\n",
       "      <td>...</td>\n",
       "      <td>All</td>\n",
       "      <td>ClinicalTrials.gov</td>\n",
       "      <td>Jennifer Stinson</td>\n",
       "      <td>Hospital for Sick Children; Stanford University</td>\n",
       "      <td>grid.42327.30; grid.168010.e</td>\n",
       "      <td>Canada; United States</td>\n",
       "      <td>Hospital for Sick Children</td>\n",
       "      <td>Canada</td>\n",
       "      <td>https://clinicaltrials.gov/show/NCT04912817</td>\n",
       "      <td>https://app.dimensions.ai/details/clinical_tri...</td>\n",
       "    </tr>\n",
       "    <tr>\n",
       "      <th>4</th>\n",
       "      <td>2021-06-04</td>\n",
       "      <td>NCT04912804</td>\n",
       "      <td>Perceived Health After Hospitalization for COV...</td>\n",
       "      <td>Perceived Health After Hospitalization for COV...</td>\n",
       "      <td>PRO-COVID</td>\n",
       "      <td>There are currently no precise data available ...</td>\n",
       "      <td>2020-06-30</td>\n",
       "      <td>2020; 2021</td>\n",
       "      <td>NaN</td>\n",
       "      <td>COVID-19, Post-hospitalization, Disease Impact</td>\n",
       "      <td>...</td>\n",
       "      <td>All</td>\n",
       "      <td>ClinicalTrials.gov</td>\n",
       "      <td>NaN</td>\n",
       "      <td>Centre Hospitalier Universitaire Dijon Bourgogne</td>\n",
       "      <td>grid.31151.37</td>\n",
       "      <td>France</td>\n",
       "      <td>NaN</td>\n",
       "      <td>NaN</td>\n",
       "      <td>https://clinicaltrials.gov/show/NCT04912804</td>\n",
       "      <td>https://app.dimensions.ai/details/clinical_tri...</td>\n",
       "    </tr>\n",
       "  </tbody>\n",
       "</table>\n",
       "<p>5 rows × 21 columns</p>\n",
       "</div>"
      ],
      "text/plain": [
       "   Date added     Trial ID                                              Title  \\\n",
       "0  2021-06-04  NCT04912934  The Relationship Between Coronavirus Anxiety L...   \n",
       "1  2021-06-04  NCT04912921  Effect of Palmitoylethanolamide on Proinflamma...   \n",
       "2  2021-06-04  NCT04912895  Detection of SARS-CoV-2 RNA and Biomarkers in ...   \n",
       "3  2021-06-04  NCT04912817  Pain Rehabilitation Virtual Reality (PR-VR) At...   \n",
       "4  2021-06-04  NCT04912804  Perceived Health After Hospitalization for COV...   \n",
       "\n",
       "                                         Brief title    Acronym  \\\n",
       "0  The Relationship Between COVID-19 Anxiety Leve...   COVID-19   \n",
       "1  Effect of Palmitoylethanolamide on Proinflamma...        NaN   \n",
       "2  Detection of SARS-CoV-2 RNA in Coughed Droplet...        NaN   \n",
       "3    PR-VR At-home Program During and After COVID-19        NaN   \n",
       "4  Perceived Health After Hospitalization for COV...  PRO-COVID   \n",
       "\n",
       "                                            Abstract Publication date  \\\n",
       "0  The aim was to determine the coronavirus anxie...       2020-06-20   \n",
       "1  This is a randomized controlled trial to exami...       2020-10-20   \n",
       "2  The purpose of this study is to learn how to b...       2021-04-14   \n",
       "3  Poorly controlled chronic pain in teens can im...       2021-09-01   \n",
       "4  There are currently no precise data available ...       2020-06-30   \n",
       "\n",
       "       Active years Phase                                      Conditions  \\\n",
       "0              2020   NaN  COVID-19; Emotional Eating; Metabolic Syndrome   \n",
       "1  2020; 2021; 2022   NaN                           COVID19; Inflammation   \n",
       "2        2021; 2022   NaN                                         Covid19   \n",
       "3        2021; 2022   NaN                                   Pain, Chronic   \n",
       "4        2020; 2021   NaN  COVID-19, Post-hospitalization, Disease Impact   \n",
       "\n",
       "   ... Gender            Registry Investigators/Contacts  \\\n",
       "0  ...    All  ClinicalTrials.gov    Dilek Küçük Alemdar   \n",
       "1  ...    All  ClinicalTrials.gov                    NaN   \n",
       "2  ...    All  ClinicalTrials.gov         Larry Anderson   \n",
       "3  ...    All  ClinicalTrials.gov       Jennifer Stinson   \n",
       "4  ...    All  ClinicalTrials.gov                    NaN   \n",
       "\n",
       "                              Sponsors/Collaborators  \\\n",
       "0                                    Ordu University   \n",
       "1                           Arizona State University   \n",
       "2  Emory University Hospital Midtown; Emory Unive...   \n",
       "3    Hospital for Sick Children; Stanford University   \n",
       "4   Centre Hospitalier Universitaire Dijon Bourgogne   \n",
       "\n",
       "                                            GRID IDs  \\\n",
       "0                                      grid.412366.4   \n",
       "1                                      grid.215654.1   \n",
       "2  grid.411929.6; grid.412162.2; grid.189967.8; g...   \n",
       "3                       grid.42327.30; grid.168010.e   \n",
       "4                                      grid.31151.37   \n",
       "\n",
       "                     Country of Sponsor/Collaborator  \\\n",
       "0                                             Turkey   \n",
       "1                                      United States   \n",
       "2  United States; United States; United States; U...   \n",
       "3                              Canada; United States   \n",
       "4                                             France   \n",
       "\n",
       "        Collaborating Funders Funder Country  \\\n",
       "0                         NaN            NaN   \n",
       "1                         NaN            NaN   \n",
       "2                         NaN            NaN   \n",
       "3  Hospital for Sick Children         Canada   \n",
       "4                         NaN            NaN   \n",
       "\n",
       "                                Source Linkout  \\\n",
       "0  https://clinicaltrials.gov/show/NCT04912934   \n",
       "1  https://clinicaltrials.gov/show/NCT04912921   \n",
       "2  https://clinicaltrials.gov/show/NCT04912895   \n",
       "3  https://clinicaltrials.gov/show/NCT04912817   \n",
       "4  https://clinicaltrials.gov/show/NCT04912804   \n",
       "\n",
       "                                      Dimensions URL  \n",
       "0  https://app.dimensions.ai/details/clinical_tri...  \n",
       "1  https://app.dimensions.ai/details/clinical_tri...  \n",
       "2  https://app.dimensions.ai/details/clinical_tri...  \n",
       "3  https://app.dimensions.ai/details/clinical_tri...  \n",
       "4  https://app.dimensions.ai/details/clinical_tri...  \n",
       "\n",
       "[5 rows x 21 columns]"
      ]
     },
     "execution_count": 5,
     "metadata": {},
     "output_type": "execute_result"
    }
   ],
   "source": [
    "# understand the data\n",
    "\n",
    "df.head()"
   ]
  },
  {
   "cell_type": "code",
   "execution_count": 6,
   "metadata": {},
   "outputs": [
    {
     "data": {
      "text/plain": [
       "(10666, 21)"
      ]
     },
     "execution_count": 6,
     "metadata": {},
     "output_type": "execute_result"
    }
   ],
   "source": [
    "# understand the data\n",
    "\n",
    "df.shape"
   ]
  },
  {
   "cell_type": "code",
   "execution_count": 7,
   "metadata": {},
   "outputs": [
    {
     "data": {
      "text/plain": [
       "'The aim was to determine the coronavirus anxiety levels and emotional eating status of cases with diagnosis of MetS according to diagnostic criteria published by the International Diabetic Federation (IDF) in 2005 and healthy individuals with similar BMI to MetS subjects.\\n\\nDetailed Description\\nThe aim was to determine the coronavirus anxiety levels and emotional eating status of cases with diagnosis of MetS according to diagnostic criteria published by the International Diabetic Federation (IDF) in 2005 and healthy individuals with similar BMI to MetS subjects. This study was completed with the descriptive, cross-sectional and relational screening model. The full sampling method was used in the study. The study was completed with 105 individuals with metabolic syndrome attending the diet clinic and 109 healthy individuals without MetS diagnosis also attending the diet clinic. Collection of data used anthropometric measurements and biochemical findings, blood pressure and a survey form, the Coronavirus Anxiety Scale (CAS) and Emotional Eating Scale (EES).'"
      ]
     },
     "execution_count": 7,
     "metadata": {},
     "output_type": "execute_result"
    }
   ],
   "source": [
    "df['Abstract'][0]"
   ]
  },
  {
   "cell_type": "code",
   "execution_count": 12,
   "metadata": {},
   "outputs": [],
   "source": [
    "# function to remove all urls\n",
    "def remove_urls(text):    \n",
    "    new_text = ' '.join(re.sub(\"(@[A-Za-z0-9]+)|([^0-9A-Za-z \\t])|(\\w+:\\/\\/\\S+)\",\" \",text).split())\n",
    "    return new_text\n",
    "\n",
    "# make all text lowercase\n",
    "def text_lowercase(text):\n",
    "    return text.lower()\n",
    "\n",
    "# remove numbers\n",
    "def remove_numbers(text):\n",
    "    result = re.sub(r'\\d+', '', text)\n",
    "    return result\n",
    "\n",
    "# remove punctuation\n",
    "def remove_punctuation(text):\n",
    "    translator = str.maketrans('', '', string.punctuation)\n",
    "    return text.translate(translator)\n",
    "\n",
    "# tokenize\n",
    "def tokenize(text):\n",
    "    text = word_tokenize(text)\n",
    "    return text\n",
    "\n",
    "# remove stopwords\n",
    "stop_words = set(stopwords.words('english'))\n",
    "def remove_stopwords(text):\n",
    "    text = [i for i in text if not i in stop_words]\n",
    "    return text\n",
    "\n",
    "# lemmatize Words \n",
    "lemmatizer = WordNetLemmatizer()\n",
    "def lemmatize(text):\n",
    "    text = [lemmatizer.lemmatize(token) for token in text]\n",
    "    return text\n",
    "\n",
    "#Creating one function so that all functions can be applied at once\n",
    "def preprocessing(text):\n",
    "    text = text_lowercase(text)\n",
    "    text = remove_urls(text)\n",
    "    text = remove_numbers(text)\n",
    "    text = remove_punctuation(text)\n",
    "    text = tokenize(text)\n",
    "    text = remove_stopwords(text)\n",
    "    text = lemmatize(text)\n",
    "    text = ' '.join(text)\n",
    "    return text"
   ]
  },
  {
   "cell_type": "code",
   "execution_count": 13,
   "metadata": {},
   "outputs": [],
   "source": [
    "''\n",
    "\n",
    "#Applying preprocessing and removing '\\n' character\n",
    "\n",
    "for i in range(df.shape[0]):\n",
    "    df['Abstract'][i]=preprocessing(str(df['Abstract'][i])) \n",
    "for text in df.Abstract:\n",
    "\n",
    "    text=text.replace('\\n',' ')   \n",
    "\n",
    "for i in range(df.shape[0]):\n",
    "    df['Title'][i]=preprocessing(str(df['Title'][i])) \n",
    "for text in df.Title:\n",
    "\n",
    "    text=text.replace('\\n',' ') \n",
    "  "
   ]
  },
  {
   "cell_type": "markdown",
   "metadata": {},
   "source": [
    "# Exploratory data analysis"
   ]
  },
  {
   "cell_type": "code",
   "execution_count": 14,
   "metadata": {},
   "outputs": [
    {
     "data": {
      "text/html": [
       "<div>\n",
       "<style scoped>\n",
       "    .dataframe tbody tr th:only-of-type {\n",
       "        vertical-align: middle;\n",
       "    }\n",
       "\n",
       "    .dataframe tbody tr th {\n",
       "        vertical-align: top;\n",
       "    }\n",
       "\n",
       "    .dataframe thead th {\n",
       "        text-align: right;\n",
       "    }\n",
       "</style>\n",
       "<table border=\"1\" class=\"dataframe\">\n",
       "  <thead>\n",
       "    <tr style=\"text-align: right;\">\n",
       "      <th></th>\n",
       "      <th>Date added</th>\n",
       "      <th>Trial ID</th>\n",
       "      <th>Title</th>\n",
       "      <th>Brief title</th>\n",
       "      <th>Acronym</th>\n",
       "      <th>Abstract</th>\n",
       "      <th>Publication date</th>\n",
       "      <th>Active years</th>\n",
       "      <th>Phase</th>\n",
       "      <th>Conditions</th>\n",
       "      <th>...</th>\n",
       "      <th>Gender</th>\n",
       "      <th>Registry</th>\n",
       "      <th>Investigators/Contacts</th>\n",
       "      <th>Sponsors/Collaborators</th>\n",
       "      <th>GRID IDs</th>\n",
       "      <th>Country of Sponsor/Collaborator</th>\n",
       "      <th>Collaborating Funders</th>\n",
       "      <th>Funder Country</th>\n",
       "      <th>Source Linkout</th>\n",
       "      <th>Dimensions URL</th>\n",
       "    </tr>\n",
       "  </thead>\n",
       "  <tbody>\n",
       "    <tr>\n",
       "      <th>0</th>\n",
       "      <td>2021-06-04</td>\n",
       "      <td>NCT04912934</td>\n",
       "      <td>relationship coronavirus anxiety level emotion...</td>\n",
       "      <td>The Relationship Between COVID-19 Anxiety Leve...</td>\n",
       "      <td>COVID-19</td>\n",
       "      <td>aim determine coronavirus anxiety level emotio...</td>\n",
       "      <td>2020-06-20</td>\n",
       "      <td>2020</td>\n",
       "      <td>NaN</td>\n",
       "      <td>COVID-19; Emotional Eating; Metabolic Syndrome</td>\n",
       "      <td>...</td>\n",
       "      <td>All</td>\n",
       "      <td>ClinicalTrials.gov</td>\n",
       "      <td>Dilek Küçük Alemdar</td>\n",
       "      <td>Ordu University</td>\n",
       "      <td>grid.412366.4</td>\n",
       "      <td>Turkey</td>\n",
       "      <td>NaN</td>\n",
       "      <td>NaN</td>\n",
       "      <td>https://clinicaltrials.gov/show/NCT04912934</td>\n",
       "      <td>https://app.dimensions.ai/details/clinical_tri...</td>\n",
       "    </tr>\n",
       "    <tr>\n",
       "      <th>1</th>\n",
       "      <td>2021-06-04</td>\n",
       "      <td>NCT04912921</td>\n",
       "      <td>effect palmitoylethanolamide proinflammatory m...</td>\n",
       "      <td>Effect of Palmitoylethanolamide on Proinflamma...</td>\n",
       "      <td>NaN</td>\n",
       "      <td>randomized controlled trial examine effect foo...</td>\n",
       "      <td>2020-10-20</td>\n",
       "      <td>2020; 2021; 2022</td>\n",
       "      <td>NaN</td>\n",
       "      <td>COVID19; Inflammation</td>\n",
       "      <td>...</td>\n",
       "      <td>All</td>\n",
       "      <td>ClinicalTrials.gov</td>\n",
       "      <td>NaN</td>\n",
       "      <td>Arizona State University</td>\n",
       "      <td>grid.215654.1</td>\n",
       "      <td>United States</td>\n",
       "      <td>NaN</td>\n",
       "      <td>NaN</td>\n",
       "      <td>https://clinicaltrials.gov/show/NCT04912921</td>\n",
       "      <td>https://app.dimensions.ai/details/clinical_tri...</td>\n",
       "    </tr>\n",
       "    <tr>\n",
       "      <th>2</th>\n",
       "      <td>2021-06-04</td>\n",
       "      <td>NCT04912895</td>\n",
       "      <td>detection sars cov rna biomarkers coughed drop...</td>\n",
       "      <td>Detection of SARS-CoV-2 RNA in Coughed Droplet...</td>\n",
       "      <td>NaN</td>\n",
       "      <td>purpose study learn better detect infection un...</td>\n",
       "      <td>2021-04-14</td>\n",
       "      <td>2021; 2022</td>\n",
       "      <td>NaN</td>\n",
       "      <td>Covid19</td>\n",
       "      <td>...</td>\n",
       "      <td>All</td>\n",
       "      <td>ClinicalTrials.gov</td>\n",
       "      <td>Larry Anderson</td>\n",
       "      <td>Emory University Hospital Midtown; Emory Unive...</td>\n",
       "      <td>grid.411929.6; grid.412162.2; grid.189967.8; g...</td>\n",
       "      <td>United States; United States; United States; U...</td>\n",
       "      <td>NaN</td>\n",
       "      <td>NaN</td>\n",
       "      <td>https://clinicaltrials.gov/show/NCT04912895</td>\n",
       "      <td>https://app.dimensions.ai/details/clinical_tri...</td>\n",
       "    </tr>\n",
       "    <tr>\n",
       "      <th>3</th>\n",
       "      <td>2021-06-04</td>\n",
       "      <td>NCT04912817</td>\n",
       "      <td>pain rehabilitation virtual reality pr vr home...</td>\n",
       "      <td>PR-VR At-home Program During and After COVID-19</td>\n",
       "      <td>NaN</td>\n",
       "      <td>poorly controlled chronic pain teen impact qua...</td>\n",
       "      <td>2021-09-01</td>\n",
       "      <td>2021; 2022</td>\n",
       "      <td>NaN</td>\n",
       "      <td>Pain, Chronic</td>\n",
       "      <td>...</td>\n",
       "      <td>All</td>\n",
       "      <td>ClinicalTrials.gov</td>\n",
       "      <td>Jennifer Stinson</td>\n",
       "      <td>Hospital for Sick Children; Stanford University</td>\n",
       "      <td>grid.42327.30; grid.168010.e</td>\n",
       "      <td>Canada; United States</td>\n",
       "      <td>Hospital for Sick Children</td>\n",
       "      <td>Canada</td>\n",
       "      <td>https://clinicaltrials.gov/show/NCT04912817</td>\n",
       "      <td>https://app.dimensions.ai/details/clinical_tri...</td>\n",
       "    </tr>\n",
       "    <tr>\n",
       "      <th>4</th>\n",
       "      <td>2021-06-04</td>\n",
       "      <td>NCT04912804</td>\n",
       "      <td>perceived health hospitalization covid</td>\n",
       "      <td>Perceived Health After Hospitalization for COV...</td>\n",
       "      <td>PRO-COVID</td>\n",
       "      <td>currently precise data available impact covid ...</td>\n",
       "      <td>2020-06-30</td>\n",
       "      <td>2020; 2021</td>\n",
       "      <td>NaN</td>\n",
       "      <td>COVID-19, Post-hospitalization, Disease Impact</td>\n",
       "      <td>...</td>\n",
       "      <td>All</td>\n",
       "      <td>ClinicalTrials.gov</td>\n",
       "      <td>NaN</td>\n",
       "      <td>Centre Hospitalier Universitaire Dijon Bourgogne</td>\n",
       "      <td>grid.31151.37</td>\n",
       "      <td>France</td>\n",
       "      <td>NaN</td>\n",
       "      <td>NaN</td>\n",
       "      <td>https://clinicaltrials.gov/show/NCT04912804</td>\n",
       "      <td>https://app.dimensions.ai/details/clinical_tri...</td>\n",
       "    </tr>\n",
       "  </tbody>\n",
       "</table>\n",
       "<p>5 rows × 21 columns</p>\n",
       "</div>"
      ],
      "text/plain": [
       "   Date added     Trial ID                                              Title  \\\n",
       "0  2021-06-04  NCT04912934  relationship coronavirus anxiety level emotion...   \n",
       "1  2021-06-04  NCT04912921  effect palmitoylethanolamide proinflammatory m...   \n",
       "2  2021-06-04  NCT04912895  detection sars cov rna biomarkers coughed drop...   \n",
       "3  2021-06-04  NCT04912817  pain rehabilitation virtual reality pr vr home...   \n",
       "4  2021-06-04  NCT04912804             perceived health hospitalization covid   \n",
       "\n",
       "                                         Brief title    Acronym  \\\n",
       "0  The Relationship Between COVID-19 Anxiety Leve...   COVID-19   \n",
       "1  Effect of Palmitoylethanolamide on Proinflamma...        NaN   \n",
       "2  Detection of SARS-CoV-2 RNA in Coughed Droplet...        NaN   \n",
       "3    PR-VR At-home Program During and After COVID-19        NaN   \n",
       "4  Perceived Health After Hospitalization for COV...  PRO-COVID   \n",
       "\n",
       "                                            Abstract Publication date  \\\n",
       "0  aim determine coronavirus anxiety level emotio...       2020-06-20   \n",
       "1  randomized controlled trial examine effect foo...       2020-10-20   \n",
       "2  purpose study learn better detect infection un...       2021-04-14   \n",
       "3  poorly controlled chronic pain teen impact qua...       2021-09-01   \n",
       "4  currently precise data available impact covid ...       2020-06-30   \n",
       "\n",
       "       Active years Phase                                      Conditions  \\\n",
       "0              2020   NaN  COVID-19; Emotional Eating; Metabolic Syndrome   \n",
       "1  2020; 2021; 2022   NaN                           COVID19; Inflammation   \n",
       "2        2021; 2022   NaN                                         Covid19   \n",
       "3        2021; 2022   NaN                                   Pain, Chronic   \n",
       "4        2020; 2021   NaN  COVID-19, Post-hospitalization, Disease Impact   \n",
       "\n",
       "   ... Gender            Registry Investigators/Contacts  \\\n",
       "0  ...    All  ClinicalTrials.gov    Dilek Küçük Alemdar   \n",
       "1  ...    All  ClinicalTrials.gov                    NaN   \n",
       "2  ...    All  ClinicalTrials.gov         Larry Anderson   \n",
       "3  ...    All  ClinicalTrials.gov       Jennifer Stinson   \n",
       "4  ...    All  ClinicalTrials.gov                    NaN   \n",
       "\n",
       "                              Sponsors/Collaborators  \\\n",
       "0                                    Ordu University   \n",
       "1                           Arizona State University   \n",
       "2  Emory University Hospital Midtown; Emory Unive...   \n",
       "3    Hospital for Sick Children; Stanford University   \n",
       "4   Centre Hospitalier Universitaire Dijon Bourgogne   \n",
       "\n",
       "                                            GRID IDs  \\\n",
       "0                                      grid.412366.4   \n",
       "1                                      grid.215654.1   \n",
       "2  grid.411929.6; grid.412162.2; grid.189967.8; g...   \n",
       "3                       grid.42327.30; grid.168010.e   \n",
       "4                                      grid.31151.37   \n",
       "\n",
       "                     Country of Sponsor/Collaborator  \\\n",
       "0                                             Turkey   \n",
       "1                                      United States   \n",
       "2  United States; United States; United States; U...   \n",
       "3                              Canada; United States   \n",
       "4                                             France   \n",
       "\n",
       "        Collaborating Funders Funder Country  \\\n",
       "0                         NaN            NaN   \n",
       "1                         NaN            NaN   \n",
       "2                         NaN            NaN   \n",
       "3  Hospital for Sick Children         Canada   \n",
       "4                         NaN            NaN   \n",
       "\n",
       "                                Source Linkout  \\\n",
       "0  https://clinicaltrials.gov/show/NCT04912934   \n",
       "1  https://clinicaltrials.gov/show/NCT04912921   \n",
       "2  https://clinicaltrials.gov/show/NCT04912895   \n",
       "3  https://clinicaltrials.gov/show/NCT04912817   \n",
       "4  https://clinicaltrials.gov/show/NCT04912804   \n",
       "\n",
       "                                      Dimensions URL  \n",
       "0  https://app.dimensions.ai/details/clinical_tri...  \n",
       "1  https://app.dimensions.ai/details/clinical_tri...  \n",
       "2  https://app.dimensions.ai/details/clinical_tri...  \n",
       "3  https://app.dimensions.ai/details/clinical_tri...  \n",
       "4  https://app.dimensions.ai/details/clinical_tri...  \n",
       "\n",
       "[5 rows x 21 columns]"
      ]
     },
     "execution_count": 14,
     "metadata": {},
     "output_type": "execute_result"
    }
   ],
   "source": [
    "df.head()"
   ]
  },
  {
   "cell_type": "code",
   "execution_count": 28,
   "metadata": {},
   "outputs": [
    {
     "data": {
      "text/plain": [
       "'currently precise data available impact covid daily life patient hospitalization moment study demonstrated strong impact diagnosis domain quality life explored mo sf questionnaire phq depression score concerning impact covid disease conventional hospitalization field report indicate extremely intense fatigue major physical impact lasting several week'"
      ]
     },
     "execution_count": 28,
     "metadata": {},
     "output_type": "execute_result"
    }
   ],
   "source": [
    "df['Abstract'][4]"
   ]
  },
  {
   "cell_type": "code",
   "execution_count": 47,
   "metadata": {},
   "outputs": [
    {
     "name": "stdout",
     "output_type": "stream",
     "text": [
      "aim determine coronavirus anxiety level emotional eating status case diagnosis mets according diagnostic criterion published international diabetic federation idf healthy individual similar bmi mets subject detailed description aim determine coronavirus anxiety level emotional eating status case diagnosis mets according diagnostic criterion published international diabetic federation idf healthy individual similar bmi mets subject study completed descriptive cross sectional relational screening model full sampling method used study study completed individual metabolic syndrome attending diet clinic healthy individual without mets diagnosis also attending diet clinic collection data used anthropometric measurement biochemical finding blood pressure survey form coronavirus anxiety scale ca emotional eating scale ee\n"
     ]
    }
   ],
   "source": [
    "\n",
    "print(df['Abstract'][0])"
   ]
  },
  {
   "cell_type": "code",
   "execution_count": 15,
   "metadata": {},
   "outputs": [],
   "source": [
    "x=[word_tokenize(word) for word in df.Abstract ]   #Tokenizing data for training purpose"
   ]
  },
  {
   "cell_type": "markdown",
   "metadata": {},
   "source": [
    "# Exploratory data analysis"
   ]
  },
  {
   "cell_type": "code",
   "execution_count": 16,
   "metadata": {},
   "outputs": [],
   "source": [
    "from collections import Counter\n",
    "cnt = Counter()\n",
    "for text in df[\"Abstract\"].values:\n",
    "    # Check if the text is a string instance before splitting\n",
    "    if isinstance(text, str):\n",
    "        for word in text.split():\n",
    "            cnt[word] += 1"
   ]
  },
  {
   "cell_type": "markdown",
   "metadata": {},
   "source": [
    "# Training skipgram model\n"
   ]
  },
  {
   "cell_type": "code",
   "execution_count": 51,
   "metadata": {},
   "outputs": [
    {
     "name": "stdout",
     "output_type": "stream",
     "text": [
      "Word2Vec<vocab=14324, vector_size=50, alpha=0.025>\n"
     ]
    }
   ],
   "source": [
    "# # training the model\n",
    "\n",
    "# skipgram = Word2Vec(x, vector_size =50, window = 3, min_count=5 ,sg = 1)\n",
    "# print(skipgram)\n",
    "# skipgram.save('skipgramx1.bin')"
   ]
  },
  {
   "cell_type": "code",
   "execution_count": 52,
   "metadata": {},
   "outputs": [],
   "source": [
    "# # training the model\n",
    "\n",
    "# skipgram = Word2Vec(x, vector_size =100, window = 1, min_count=3,sg = 1)\n",
    "\n",
    "# skipgram.save('skipgramx2.bin')"
   ]
  },
  {
   "cell_type": "code",
   "execution_count": null,
   "metadata": {},
   "outputs": [],
   "source": []
  },
  {
   "cell_type": "code",
   "execution_count": 53,
   "metadata": {},
   "outputs": [],
   "source": [
    "# # Loading the model\n",
    "# skipgram = Word2Vec.load('skipgramx2.bin')"
   ]
  },
  {
   "cell_type": "markdown",
   "metadata": {},
   "source": [
    "# Training Fasttext model"
   ]
  },
  {
   "cell_type": "code",
   "execution_count": 17,
   "metadata": {},
   "outputs": [],
   "source": [
    "fast_n= FastText(x,vector_size=200, window=3, min_count=2, workers=5, min_n=1, max_n=2,sg=1)  #training fasttext Model, with skipgram\n",
    "fast_n=fast_n.save('fast_p.bin')    #Saving our model\n",
    "fast_n = Word2Vec.load('fast_p.bin')  #Loading our pretrained model\n"
   ]
  },
  {
   "cell_type": "code",
   "execution_count": 18,
   "metadata": {},
   "outputs": [],
   "source": [
    "FastText=FastText(x,vector_size=100, window=2, min_count=2, workers=5, min_n=1, max_n=2,sg=1)\n",
    "FastText.save('FastText.bin')    #Saving our model\n",
    "FastText = Word2Vec.load('FastText.bin')  #Loading our pretrained model"
   ]
  },
  {
   "cell_type": "markdown",
   "metadata": {},
   "source": [
    "## Model embeddings - Similarity"
   ]
  },
  {
   "cell_type": "code",
   "execution_count": 54,
   "metadata": {},
   "outputs": [
    {
     "data": {
      "text/plain": [
       "[('pathogen', 0.7233397960662842),\n",
       " ('viral', 0.6758182644844055),\n",
       " ('chikungunya', 0.6720664501190186),\n",
       " ('coronaviruses', 0.6704850792884827),\n",
       " ('virion', 0.6555158495903015),\n",
       " ('airborne', 0.6293444633483887),\n",
       " ('herpes', 0.6287558078765869),\n",
       " ('contagious', 0.6204453110694885),\n",
       " ('zoonotic', 0.6197810769081116),\n",
       " ('bacteria', 0.6089375615119934)]"
      ]
     },
     "execution_count": 54,
     "metadata": {},
     "output_type": "execute_result"
    }
   ],
   "source": [
    "# # Similar words - skipgram\n",
    "# skipgram.wv.most_similar(positive=['virus'],topn=10)"
   ]
  },
  {
   "cell_type": "code",
   "execution_count": 56,
   "metadata": {},
   "outputs": [
    {
     "data": {
      "text/plain": [
       "[('pulmonary', 0.6549603343009949),\n",
       " ('myocardial', 0.6001201272010803),\n",
       " ('alveolar', 0.5997226238250732),\n",
       " ('ocular', 0.5906752347946167),\n",
       " ('doppler', 0.5902682542800903),\n",
       " ('testicular', 0.5902379751205444),\n",
       " ('vili', 0.5862939357757568),\n",
       " ('cardiopulmonary', 0.5804935097694397),\n",
       " ('kidney', 0.5799474716186523),\n",
       " ('brain', 0.5734965205192566)]"
      ]
     },
     "execution_count": 56,
     "metadata": {},
     "output_type": "execute_result"
    }
   ],
   "source": [
    "# skipgram.wv.most_similar(positive=['lung'],topn=10)"
   ]
  },
  {
   "cell_type": "code",
   "execution_count": 19,
   "metadata": {},
   "outputs": [
    {
     "data": {
      "text/plain": [
       "[('lungiq', 0.7724366188049316),\n",
       " ('leung', 0.7270738482475281),\n",
       " ('pulmonary', 0.6651991605758667),\n",
       " ('ltigung', 0.6614290475845337),\n",
       " ('sung', 0.6597214341163635),\n",
       " ('alveolus', 0.6558178067207336),\n",
       " ('laung', 0.6533050537109375),\n",
       " ('volunteering', 0.6515987515449524),\n",
       " ('laying', 0.6492629051208496),\n",
       " ('lure', 0.6473810076713562)]"
      ]
     },
     "execution_count": 19,
     "metadata": {},
     "output_type": "execute_result"
    }
   ],
   "source": [
    "# Similar words - fasttext\n",
    "\n",
    "FastText.wv.most_similar(positive=['lung'],topn=10)"
   ]
  },
  {
   "cell_type": "code",
   "execution_count": 21,
   "metadata": {},
   "outputs": [
    {
     "data": {
      "text/plain": [
       "[('covirus', 0.8141803741455078),\n",
       " ('flavivirus', 0.7893029451370239),\n",
       " ('parechovirus', 0.7864239811897278),\n",
       " ('arenavirus', 0.7768366932868958),\n",
       " ('parvovirus', 0.7711964249610901),\n",
       " ('virulent', 0.7690271735191345),\n",
       " ('viral', 0.7687806487083435),\n",
       " ('viruscore', 0.7675086259841919),\n",
       " ('enterovirus', 0.7635301947593689),\n",
       " ('arbovirus', 0.7609745264053345)]"
      ]
     },
     "execution_count": 21,
     "metadata": {},
     "output_type": "execute_result"
    }
   ],
   "source": [
    "FastText.wv.most_similar(positive=['virus'],topn=10)"
   ]
  },
  {
   "cell_type": "markdown",
   "metadata": {},
   "source": [
    "# PCA Plot - Skipgram"
   ]
  },
  {
   "cell_type": "code",
   "execution_count": 29,
   "metadata": {},
   "outputs": [
    {
     "name": "stdout",
     "output_type": "stream",
     "text": [
      "(24877, 2)\n"
     ]
    }
   ],
   "source": [
    "X = FastText.wv[FastText.wv.index_to_key] # Extracts all word vectors from the Skip-gram model in the vocabulary order.\n",
    "   \n",
    "pca = PCA(n_components=2) \n",
    "result = pca.fit_transform(X)\n",
    "print(result.shape)\n"
   ]
  },
  {
   "cell_type": "code",
   "execution_count": 50,
   "metadata": {},
   "outputs": [],
   "source": [
    "#\n"
   ]
  },
  {
   "cell_type": "code",
   "execution_count": 30,
   "metadata": {},
   "outputs": [
    {
     "data": {
      "image/png": "[encoded data removed]",
      "text/plain": [
       "<Figure size 640x480 with 1 Axes>"
      ]
     },
     "metadata": {},
     "output_type": "display_data"
    }
   ],
   "source": [
    "\n",
    "# Extract the first 10 words and their embeddings\n",
    "top_words = FastText.wv.index_to_key[:10]\n",
    "top_embeddings = result[:10]\n",
    "\n",
    "# Plot each word embedding\n",
    "plt.scatter(top_embeddings[:, 0], top_embeddings[:, 1])\n",
    "\n",
    "# Annotate each point with its corresponding word\n",
    "for i, word in enumerate(top_words):\n",
    "    plt.text(top_embeddings[i, 0], top_embeddings[i, 1], word)\n",
    "\n",
    "# Display the plot\n",
    "plt.show()"
   ]
  },
  {
   "cell_type": "markdown",
   "metadata": {},
   "source": [
    " \"covid\" and \"disease\" appear close to each other, suggesting that in the dataset used for training the word embeddings, these words are related or used together frequently\n",
    "\n",
    " \"clinical\", \"group\", \"data\", \"study\", suggesting these words are part of a discourse on clinical studies or medical research.\n",
    "\n",
    " "
   ]
  },
  {
   "cell_type": "markdown",
   "metadata": {},
   "source": [
    "# PCA Plot - Fasttest"
   ]
  },
  {
   "cell_type": "code",
   "execution_count": 22,
   "metadata": {},
   "outputs": [],
   "source": [
    "#same thing as above but with fasttext model\n",
    "X_fast = FastText.wv[FastText.wv.index_to_key]\n",
    "pca = PCA(n_components=2)\n",
    "result_fast = pca.fit_transform(X_fast)"
   ]
  },
  {
   "cell_type": "code",
   "execution_count": 24,
   "metadata": {},
   "outputs": [
    {
     "data": {
      "image/png": "[encoded data removed]",
      "text/plain": [
       "<Figure size 640x480 with 1 Axes>"
      ]
     },
     "metadata": {},
     "output_type": "display_data"
    }
   ],
   "source": [
    "pyplot.scatter(result_fast[:10, 0], result_fast[:10, 1])\n",
    "words = list(FastText.wv.index_to_key)\n",
    "for i, word in enumerate(words[:10]):\n",
    "    pyplot.annotate(word, xy=(result_fast[i, 0], result_fast[i, 1]))\n",
    "pyplot.show()"
   ]
  },
  {
   "cell_type": "markdown",
   "metadata": {},
   "source": [
    "# Getting Vectors for each abstract\n"
   ]
  },
  {
   "cell_type": "code",
   "execution_count": 59,
   "metadata": {},
   "outputs": [],
   "source": [
    "vector_size=100   #defining vector size for each word"
   ]
  },
  {
   "cell_type": "markdown",
   "metadata": {},
   "source": [
    "### Method 1"
   ]
  },
  {
   "cell_type": "code",
   "execution_count": null,
   "metadata": {},
   "outputs": [],
   "source": []
  },
  {
   "cell_type": "code",
   "execution_count": null,
   "metadata": {},
   "outputs": [],
   "source": []
  },
  {
   "cell_type": "markdown",
   "metadata": {},
   "source": [
    "### Method 2"
   ]
  },
  {
   "cell_type": "code",
   "execution_count": 25,
   "metadata": {},
   "outputs": [],
   "source": [
    "def get_mean_vector(word2vec_model, words):\n",
    "    # Tokenize the input text and initialize an empty list for valid words\n",
    "    tokenized_words = tokenize(words)\n",
    "    valid_words = []\n",
    "\n",
    "    # Check each word to see if it's in the model's vocabulary\n",
    "    for word in tokenized_words:\n",
    "        if word in word2vec_model.wv.index_to_key:\n",
    "            valid_words.append(word)\n",
    "    \n",
    "    # If there are valid words, calculate and return their mean vector\n",
    "    if len(valid_words) >= 1:\n",
    "        return np.mean(word2vec_model.wv[valid_words], axis=0)\n",
    "    # If there are no valid words, return a zero vector\n",
    "    else:\n",
    "        return np.array([0]*100)\n"
   ]
  },
  {
   "cell_type": "markdown",
   "metadata": {},
   "source": [
    "### Abstract to vectors using skipgram Model"
   ]
  },
  {
   "cell_type": "code",
   "execution_count": 26,
   "metadata": {},
   "outputs": [],
   "source": [
    "vector_list = []\n",
    "\n",
    "# Convert each abstract to a vector and append it to the list\n",
    "for abstract in df['Abstract']:\n",
    "    vector = get_mean_vector(skipgram, abstract)  # This function call assumes abstract is already tokenized if needed\n",
    "    vector_list.append(vector.tolist())  # Convert array to list and append\n",
    "\n",
    "# Convert the list of vectors into a DataFrame\n",
    "vectors_df = pd.DataFrame(vector_list)\n",
    "\n",
    "# Optionally transpose the DataFrame if needed\n",
    "vectors_df = vectors_df.transpose()  \n",
    "\n",
    "# Save the DataFrame to a CSV file\n",
    "vectors_df.to_csv('skipgram-vec.csv', index=False)"
   ]
  },
  {
   "cell_type": "code",
   "execution_count": 27,
   "metadata": {},
   "outputs": [],
   "source": [
    "K=pd.read_csv('skipgram-vec.csv')   #Loading our pretrained vectors of each abstract\n",
    "\n",
    "skipgram_vectors=[] \n",
    "for i in range(df.shape[0]):\n",
    "    skipgram_vectors.append(K[str(i)].values)\n",
    " "
   ]
  },
  {
   "cell_type": "markdown",
   "metadata": {},
   "source": [
    "### For converting Title into vectors using skipgram"
   ]
  },
  {
   "cell_type": "code",
   "execution_count": 33,
   "metadata": {},
   "outputs": [],
   "source": [
    "K_title=[]\n",
    "for i in df.Title:         #instead of abstract use title\n",
    "    K_title.append(list(get_mean_vector(FastText, i))) \n",
    "\n",
    "K_title=pd.DataFrame(K_title).transpose()  # Saving vectors of each abstract in data frame so that we can use directly while running code again\n",
    "K_title.to_csv('FastText-vec-title.csv')    \n"
   ]
  },
  {
   "cell_type": "code",
   "execution_count": 34,
   "metadata": {},
   "outputs": [],
   "source": [
    "import pandas as pd\n",
    "\n",
    "# Load the DataFrame from a CSV file\n",
    "K_title_df = pd.read_csv('FastText-vec-title.csv')\n",
    "\n",
    "# Initialize an empty list to store vectors\n",
    "K_title = []\n",
    "\n",
    "# Iterate over each column (each column represents a vector for an abstract)\n",
    "# Assuming each row in the CSV file corresponds to a vector component of titles\n",
    "for i in range(K_title_df.shape[0]):  \n",
    "    # Append the column values as a list to K_title\n",
    "    K_title.append(K_title_df[str(i)].values.tolist())  # Use tolist() for converting to list\n"
   ]
  },
  {
   "cell_type": "markdown",
   "metadata": {},
   "source": [
    "### Abstract to vector using FastText "
   ]
  },
  {
   "cell_type": "code",
   "execution_count": 39,
   "metadata": {},
   "outputs": [],
   "source": [
    "K_fast=[]                                     #defining empty list\n",
    "for i in df.Abstract:\n",
    "    K_fast.append(list(get_mean_vector(FastText, i)))     #appending array to the list\n",
    "    \n",
    "K11=pd.DataFrame(K_fast).transpose()    # Saving vectors of each abstract in data frame so that we can use directly while running code again\n",
    "K11.to_csv('FastText-vec.csv')"
   ]
  },
  {
   "cell_type": "code",
   "execution_count": 40,
   "metadata": {},
   "outputs": [],
   "source": [
    "data=pd.read_csv('FastText-vec.csv')#Loading our pretrained vectors of each abstract\n",
    "\n",
    "fast_vectors=[] #transforming dataframe into required array like structure as we did in above step\n",
    "for i in range(df.shape[0]):\n",
    "    fast_vectors.append(data[str(i)].values)"
   ]
  },
  {
   "cell_type": "markdown",
   "metadata": {},
   "source": [
    "# Cosine similarity function"
   ]
  },
  {
   "cell_type": "code",
   "execution_count": 35,
   "metadata": {},
   "outputs": [],
   "source": [
    "#defining function to define cosine similarity\n",
    "from numpy import dot\n",
    "from numpy.linalg import norm\n",
    "\n",
    "def cos_sim(a,b):\n",
    "    return dot(a, b)/(norm(a)*norm(b))"
   ]
  },
  {
   "cell_type": "markdown",
   "metadata": {},
   "source": [
    "# Input query Preprocessing"
   ]
  },
  {
   "cell_type": "code",
   "execution_count": 36,
   "metadata": {},
   "outputs": [],
   "source": [
    "#Preprocessing input, because input should be in same form as training data set\n",
    "\n",
    "def preprocessing_input(query,word2vec_model):\n",
    "    query=preprocessing(query)\n",
    "    query=query.replace('\\n',' ')\n",
    "    K=get_mean_vector(word2vec_model,query)\n",
    "       \n",
    "\n",
    "    return K"
   ]
  },
  {
   "cell_type": "markdown",
   "metadata": {},
   "source": [
    "# Function to return 'n' similar results"
   ]
  },
  {
   "cell_type": "code",
   "execution_count": 37,
   "metadata": {},
   "outputs": [],
   "source": [
    "pd.set_option(\"display.max_colwidth\", None)       #this function will display full text from each column"
   ]
  },
  {
   "cell_type": "code",
   "execution_count": 38,
   "metadata": {},
   "outputs": [],
   "source": [
    "def top_n(query, p, df1, model, n=5):\n",
    "    print(query)\n",
    "    \n",
    "    # Preprocess the input query into a vector\n",
    "    query_vector = preprocessing_input(query, model)\n",
    "    \n",
    "    # Calculate cosine similarities and store them in a list\n",
    "    similarities = [cos_sim(query_vector, p_vector) for p_vector in p]\n",
    "    \n",
    "    # Get indices of the top n items based on cosine similarity\n",
    "    top_indices = sorted(range(len(similarities)), key=lambda i: similarities[i], reverse=True)[:n]\n",
    "    \n",
    "    # Extract the top n similarities\n",
    "    top_similarities = [similarities[i] for i in top_indices]\n",
    "    \n",
    "    # Retrieve the corresponding rows from df1\n",
    "    top_rows = df1.iloc[top_indices, [1, 2, 5, 6]]\n",
    "    \n",
    "    print(top_similarities)\n",
    "    return top_rows, top_similarities\n"
   ]
  },
  {
   "cell_type": "markdown",
   "metadata": {},
   "source": [
    "## Result Evaluation"
   ]
  },
  {
   "cell_type": "code",
   "execution_count": 79,
   "metadata": {},
   "outputs": [
    {
     "name": "stdout",
     "output_type": "stream",
     "text": [
      "lung\n",
      "[0.6727695280023931, 0.669300151313261, 0.6689557559995652, 0.6657115606410245, 0.6643269997074693]\n"
     ]
    },
    {
     "data": {
      "text/html": [
       "<div>\n",
       "<style scoped>\n",
       "    .dataframe tbody tr th:only-of-type {\n",
       "        vertical-align: middle;\n",
       "    }\n",
       "\n",
       "    .dataframe tbody tr th {\n",
       "        vertical-align: top;\n",
       "    }\n",
       "\n",
       "    .dataframe thead th {\n",
       "        text-align: right;\n",
       "    }\n",
       "</style>\n",
       "<table border=\"1\" class=\"dataframe\">\n",
       "  <thead>\n",
       "    <tr style=\"text-align: right;\">\n",
       "      <th></th>\n",
       "      <th>Trial ID</th>\n",
       "      <th>Title</th>\n",
       "      <th>Abstract</th>\n",
       "      <th>Publication date</th>\n",
       "    </tr>\n",
       "  </thead>\n",
       "  <tbody>\n",
       "    <tr>\n",
       "      <th>10319</th>\n",
       "      <td>CHICTR2000030114</td>\n",
       "      <td>Lung ultrasound in the diagnosis, treatment and prognosis of pulmonary lesions of novel coronavirus pneumonia(COVID-19)</td>\n",
       "      <td>1) lung ultrasound characteristics of pulmonary lesions in severe cases of new coronavirus pneumonia; Compared with chest CT, diagnostic value of lung ultrasound in pulmonary lesions caused by novel coronavirus pneumonia;\\n2) continuous monitoring of lung ultrasound to evaluate the severity of pulmonary lesions caused by severe novel coronavirus pneumonia;\\n3) lung ultrasound guided treatment can improve the prognosis.</td>\n",
       "      <td>2020-02-24</td>\n",
       "    </tr>\n",
       "    <tr>\n",
       "      <th>7831</th>\n",
       "      <td>2020-001807-18</td>\n",
       "      <td>A Phase 2, Randomized, Double-Blind, Placebo-Controlled, Parallel-group, Multi-center Study of an Inhaled Pan-Janus Kinase Inhibitor, TD-0903, to Treat Symptomatic Acute Lung Injury Associated with COVID-19</td>\n",
       "      <td>Acute lung injury associated with COVID-19</td>\n",
       "      <td>2020-10-13</td>\n",
       "    </tr>\n",
       "    <tr>\n",
       "      <th>8628</th>\n",
       "      <td>DRKS00021585</td>\n",
       "      <td>Lung Ultrasound in Covid-19 Pneumonia</td>\n",
       "      <td>\\n\\nDetailed Description\\nProspective evaluation of the agreement between Lung-Ultrasound according to the Basic Lung Ultrasound in Emergency (BLUE)-protocol and computed tomography of the lungs in diagnosis of viral pneumonia.</td>\n",
       "      <td>2020-04-24</td>\n",
       "    </tr>\n",
       "    <tr>\n",
       "      <th>10124</th>\n",
       "      <td>CHICTR2000030578</td>\n",
       "      <td>Clinical Prediction and Intervention of Pulmonary Function Impairment in Patients with Novel Coronavirus Pneumonia (COVID-19)</td>\n",
       "      <td>1. Establish a cohort of survivors of new coronavirus pneumonia, track their lung function damage and changes after discharge, and establish a predictive model of lung function impairment of new coronavirus pneumonia;\\n2. Explore lung rehabilitation in patients with impaired lung function effect.</td>\n",
       "      <td>2020-02-01</td>\n",
       "    </tr>\n",
       "    <tr>\n",
       "      <th>4328</th>\n",
       "      <td>NCT04588441</td>\n",
       "      <td>Aerosolized Inhaled Adenosine Treatment in Patients With Acute Respiratory Distress Syndrome (ARDS) Caused by COVID-19 (The ARCTIC Trial)</td>\n",
       "      <td>This is a phase II study to test adenosine efficacy for down-regulation of the overwhelming inflammation of COVID-19 in the lungs as reflected by clinical recovery of lung function; resolution of clinically relevant markers of lung function, and resolution of systemic markers of inflammation and coagulation.</td>\n",
       "      <td>2021-07-01</td>\n",
       "    </tr>\n",
       "  </tbody>\n",
       "</table>\n",
       "</div>"
      ],
      "text/plain": [
       "               Trial ID  \\\n",
       "10319  CHICTR2000030114   \n",
       "7831     2020-001807-18   \n",
       "8628       DRKS00021585   \n",
       "10124  CHICTR2000030578   \n",
       "4328        NCT04588441   \n",
       "\n",
       "                                                                                                                                                                                                                Title  \\\n",
       "10319                                                                                         Lung ultrasound in the diagnosis, treatment and prognosis of pulmonary lesions of novel coronavirus pneumonia(COVID-19)   \n",
       "7831   A Phase 2, Randomized, Double-Blind, Placebo-Controlled, Parallel-group, Multi-center Study of an Inhaled Pan-Janus Kinase Inhibitor, TD-0903, to Treat Symptomatic Acute Lung Injury Associated with COVID-19   \n",
       "8628                                                                                                                                                                            Lung Ultrasound in Covid-19 Pneumonia   \n",
       "10124                                                                                   Clinical Prediction and Intervention of Pulmonary Function Impairment in Patients with Novel Coronavirus Pneumonia (COVID-19)   \n",
       "4328                                                                        Aerosolized Inhaled Adenosine Treatment in Patients With Acute Respiratory Distress Syndrome (ARDS) Caused by COVID-19 (The ARCTIC Trial)   \n",
       "\n",
       "                                                                                                                                                                                                                                                                                                                                                                                                                                     Abstract  \\\n",
       "10319  1) lung ultrasound characteristics of pulmonary lesions in severe cases of new coronavirus pneumonia; Compared with chest CT, diagnostic value of lung ultrasound in pulmonary lesions caused by novel coronavirus pneumonia;\\n2) continuous monitoring of lung ultrasound to evaluate the severity of pulmonary lesions caused by severe novel coronavirus pneumonia;\\n3) lung ultrasound guided treatment can improve the prognosis.   \n",
       "7831                                                                                                                                                                                                                                                                                                                                                                                               Acute lung injury associated with COVID-19   \n",
       "8628                                                                                                                                                                                                      \\n\\nDetailed Description\\nProspective evaluation of the agreement between Lung-Ultrasound according to the Basic Lung Ultrasound in Emergency (BLUE)-protocol and computed tomography of the lungs in diagnosis of viral pneumonia.   \n",
       "10124                                                                                                                               1. Establish a cohort of survivors of new coronavirus pneumonia, track their lung function damage and changes after discharge, and establish a predictive model of lung function impairment of new coronavirus pneumonia;\\n2. Explore lung rehabilitation in patients with impaired lung function effect.   \n",
       "4328                                                                                                                    This is a phase II study to test adenosine efficacy for down-regulation of the overwhelming inflammation of COVID-19 in the lungs as reflected by clinical recovery of lung function; resolution of clinically relevant markers of lung function, and resolution of systemic markers of inflammation and coagulation.   \n",
       "\n",
       "      Publication date  \n",
       "10319       2020-02-24  \n",
       "7831        2020-10-13  \n",
       "8628        2020-04-24  \n",
       "10124       2020-02-01  \n",
       "4328        2021-07-01  "
      ]
     },
     "execution_count": 79,
     "metadata": {},
     "output_type": "execute_result"
    }
   ],
   "source": [
    "# # skipgram model\n",
    "\n",
    "# #Input your search query here\n",
    "\n",
    "# Query = \"lung\"\n",
    "\n",
    "# Results,sim = top_n(Query, skipgram_vectors, df1, skipgram)\n",
    "# Results"
   ]
  },
  {
   "cell_type": "code",
   "execution_count": 41,
   "metadata": {},
   "outputs": [
    {
     "name": "stdout",
     "output_type": "stream",
     "text": [
      "oxygen\n",
      "[0.7424427915992682, 0.7350114955076713, 0.7215374611987121, 0.7110229399154274, 0.6963310664061]\n"
     ]
    },
    {
     "data": {
      "text/html": [
       "<div>\n",
       "<style scoped>\n",
       "    .dataframe tbody tr th:only-of-type {\n",
       "        vertical-align: middle;\n",
       "    }\n",
       "\n",
       "    .dataframe tbody tr th {\n",
       "        vertical-align: top;\n",
       "    }\n",
       "\n",
       "    .dataframe thead th {\n",
       "        text-align: right;\n",
       "    }\n",
       "</style>\n",
       "<table border=\"1\" class=\"dataframe\">\n",
       "  <thead>\n",
       "    <tr style=\"text-align: right;\">\n",
       "      <th></th>\n",
       "      <th>Trial ID</th>\n",
       "      <th>Title</th>\n",
       "      <th>Abstract</th>\n",
       "      <th>Publication date</th>\n",
       "    </tr>\n",
       "  </thead>\n",
       "  <tbody>\n",
       "    <tr>\n",
       "      <th>1038</th>\n",
       "      <td>UMIN000043867</td>\n",
       "      <td>A Study on the Concentration of Inhaled Oxygen when Oxygen is Administered with an Oxygen Mask while Using a Surgical Mask:A study on the appropriate oxygen administration method under Covid 19 epidemic conditions.</td>\n",
       "      <td>When oxygen is administered to a subject wearing a surgical mask over it, clarify whether the inhaled oxygen concentration at the mouth reaches the desired concentration.</td>\n",
       "      <td>2021-05-01</td>\n",
       "    </tr>\n",
       "    <tr>\n",
       "      <th>3444</th>\n",
       "      <td>UMIN000042524</td>\n",
       "      <td>Investigation of the Safety and Efficacy of Oxygen Administration over a Surgical Facemask</td>\n",
       "      <td>For the anesthetic management of patients with novel coronavirus infection, it is recommended that a surgical mask be placed on the patient after extubation and an oxygen mask be placed over the surgical mask. However, data on safety and effectiveness have not been presented. Therefore, we will examine the fraction of inhaled oxygen (FIO2), partial pressure of inhaled carbon dioxide (PICO2), and transcutaneous oxygen saturation (SpO2) when oxygen is administered by wearing an oxygen mask over a surgical mask.</td>\n",
       "      <td>2020-11-24</td>\n",
       "    </tr>\n",
       "    <tr>\n",
       "      <th>4069</th>\n",
       "      <td>CTRI/2020/08/027503</td>\n",
       "      <td>Low Dose Aspirin in Moderate to Severe SARS- CoV-2 Infected Patients: A Pilot Randomized Controlled Trial</td>\n",
       "      <td>Study Protocol Clinical management of all patients including fluid therapy, oxygen therapy, drug therapy, monitoring of vitals, baseline blood investigations, chest X ray and point of care ultrasound will be as per standard Institute protocol. Oxygen by facemask will be provided when room air oxyhemoglobin saturation&lt; 94%) and high flow nasal oxygen (HFNO) therapy will be used when oxyhemoglobin saturation &lt; 92% despite of 10L/min of oxygen by normal facemask. Non-invasive / invasive mechanical ventilation will be initiated if a patient develops increasing respiratory distress and hypoxia even with HFNO.\\n\\n\\nPrimary Outcome:\\n\\nTo compare SpO2/ FiO2 ratio in day 1- 7 post randomization in both the groups\\n\\n\\n\\nSecondary Outcome:\\n\\n1.\\tTo compare the ventilation free days (VFD.\\n2.\\tTo compare the high flow nasal oxygen and/ or NIV free days (NVFD) in both the groups.\\n3.\\tTo compare supplemental oxygen free days (OFD).\\n4.\\tTo compare mortality in both the groups.</td>\n",
       "      <td>2021-06-15</td>\n",
       "    </tr>\n",
       "    <tr>\n",
       "      <th>8281</th>\n",
       "      <td>2020-001700-42</td>\n",
       "      <td>Efficacy of captopril nebulization in Covid-19 patients suffering of SARS-CoV-2 pneumonia. A randomized phase II study</td>\n",
       "      <td>Patient 18 with SARS Cov 2 pneumonia requiring oxygen administration.</td>\n",
       "      <td>2020-04-27</td>\n",
       "    </tr>\n",
       "    <tr>\n",
       "      <th>9188</th>\n",
       "      <td>NCT04346420</td>\n",
       "      <td>Impact of the Double-Trunk Mask on Oxygenation Titration in Patients With COVID-19</td>\n",
       "      <td>This study will investigate the impact of the Double-Trunk Mask (DTM) on the reduction of oxygen titration in patients with severe hypoxemia.\\n\\nDetailed Description\\nThe Double-Trunk Mask (DTM) is a device designed to increase the fraction of inspired oxygen in patients who receive oxygen therapy. The mask is composed of a regular aerosol mask with corrugated tubing (15 cm length) inserted into two lateral holes. Each included patient will wear standard nasal cannula in addition to the Double-Trunk Mask for 30 minutes, then only their standard oxygen interface for the next 30 minutes. While maintaining the oxygen saturation by pulse oximetry (SpO2) at a target value of 94%, the impact of the DTM will be assessed by measuring the change of oxygen flow given to the patient.</td>\n",
       "      <td>2020-04-09</td>\n",
       "    </tr>\n",
       "  </tbody>\n",
       "</table>\n",
       "</div>"
      ],
      "text/plain": [
       "                 Trial ID  \\\n",
       "1038        UMIN000043867   \n",
       "3444        UMIN000042524   \n",
       "4069  CTRI/2020/08/027503   \n",
       "8281       2020-001700-42   \n",
       "9188          NCT04346420   \n",
       "\n",
       "                                                                                                                                                                                                                       Title  \\\n",
       "1038  A Study on the Concentration of Inhaled Oxygen when Oxygen is Administered with an Oxygen Mask while Using a Surgical Mask:A study on the appropriate oxygen administration method under Covid 19 epidemic conditions.   \n",
       "3444                                                                                                                              Investigation of the Safety and Efficacy of Oxygen Administration over a Surgical Facemask   \n",
       "4069                                                                                                               Low Dose Aspirin in Moderate to Severe SARS- CoV-2 Infected Patients: A Pilot Randomized Controlled Trial   \n",
       "8281                                                                                                  Efficacy of captopril nebulization in Covid-19 patients suffering of SARS-CoV-2 pneumonia. A randomized phase II study   \n",
       "9188                                                                                                                                      Impact of the Double-Trunk Mask on Oxygenation Titration in Patients With COVID-19   \n",
       "\n",
       "                                                                                                                                                                                                                                                                                                                                                                                                                                                                                                                                                                                                                                                                                                                                                                                                                                                                                                                                                                                                                   Abstract  \\\n",
       "1038                                                                                                                                                                                                                                                                                                                                                                                                                                                                                                                                                                                                                                                                                                                                                                                                                                             When oxygen is administered to a subject wearing a surgical mask over it, clarify whether the inhaled oxygen concentration at the mouth reaches the desired concentration.   \n",
       "3444                                                                                                                                                                                                                                                                                                                                                                                                                                                                                     For the anesthetic management of patients with novel coronavirus infection, it is recommended that a surgical mask be placed on the patient after extubation and an oxygen mask be placed over the surgical mask. However, data on safety and effectiveness have not been presented. Therefore, we will examine the fraction of inhaled oxygen (FIO2), partial pressure of inhaled carbon dioxide (PICO2), and transcutaneous oxygen saturation (SpO2) when oxygen is administered by wearing an oxygen mask over a surgical mask.   \n",
       "4069  Study Protocol Clinical management of all patients including fluid therapy, oxygen therapy, drug therapy, monitoring of vitals, baseline blood investigations, chest X ray and point of care ultrasound will be as per standard Institute protocol. Oxygen by facemask will be provided when room air oxyhemoglobin saturation< 94%) and high flow nasal oxygen (HFNO) therapy will be used when oxyhemoglobin saturation < 92% despite of 10L/min of oxygen by normal facemask. Non-invasive / invasive mechanical ventilation will be initiated if a patient develops increasing respiratory distress and hypoxia even with HFNO.\\n\\n\\nPrimary Outcome:\\n\\nTo compare SpO2/ FiO2 ratio in day 1- 7 post randomization in both the groups\\n\\n\\n\\nSecondary Outcome:\\n\\n1.\\tTo compare the ventilation free days (VFD.\\n2.\\tTo compare the high flow nasal oxygen and/ or NIV free days (NVFD) in both the groups.\\n3.\\tTo compare supplemental oxygen free days (OFD).\\n4.\\tTo compare mortality in both the groups.   \n",
       "8281                                                                                                                                                                                                                                                                                                                                                                                                                                                                                                                                                                                                                                                                                                                                                                                                                                                                                                                                                  Patient 18 with SARS Cov 2 pneumonia requiring oxygen administration.   \n",
       "9188                                                                                                                                                                                                        This study will investigate the impact of the Double-Trunk Mask (DTM) on the reduction of oxygen titration in patients with severe hypoxemia.\\n\\nDetailed Description\\nThe Double-Trunk Mask (DTM) is a device designed to increase the fraction of inspired oxygen in patients who receive oxygen therapy. The mask is composed of a regular aerosol mask with corrugated tubing (15 cm length) inserted into two lateral holes. Each included patient will wear standard nasal cannula in addition to the Double-Trunk Mask for 30 minutes, then only their standard oxygen interface for the next 30 minutes. While maintaining the oxygen saturation by pulse oximetry (SpO2) at a target value of 94%, the impact of the DTM will be assessed by measuring the change of oxygen flow given to the patient.   \n",
       "\n",
       "     Publication date  \n",
       "1038       2021-05-01  \n",
       "3444       2020-11-24  \n",
       "4069       2021-06-15  \n",
       "8281       2020-04-27  \n",
       "9188       2020-04-09  "
      ]
     },
     "execution_count": 41,
     "metadata": {},
     "output_type": "execute_result"
    }
   ],
   "source": [
    "# fasttext model\n",
    "\n",
    "#Input your search query here\n",
    "\n",
    "Query = \"oxygen\"\n",
    "\n",
    "Results,sim=top_n(Query,fast_vectors,df1,FastText)\n",
    "Results"
   ]
  },
  {
   "cell_type": "markdown",
   "metadata": {},
   "source": [
    "# Streamlit App (Refer Medical.py file to run the app)"
   ]
  },
  {
   "cell_type": "code",
   "execution_count": null,
   "metadata": {},
   "outputs": [],
   "source": [
    "\n",
    "\n",
    "def main():\n",
    "    # Load data and models\n",
    "    data = df1  # our data which we have to display\n",
    "\n",
    "    st.title(\"Clinical Trial Search engine\")  # title of our app\n",
    "    st.write('Select Model')  # text below title\n",
    "\n",
    "    # User selects the model\n",
    "    Vectors = st.selectbox(\"Model\", options=['Skipgram', 'Fasttext'])\n",
    "    if Vectors == 'Skipgram':\n",
    "        K = K2\n",
    "        word2vec_model = skipgram\n",
    "    elif Vectors == 'Fasttext':\n",
    "        K = K1\n",
    "        word2vec_model = FastText\n",
    "\n",
    "    st.write('Type your query here')\n",
    "    query = st.text_input(\"Search box\")  # getting input from user\n",
    "\n",
    "    def preprocessing_input(query):\n",
    "        query = preprocessing(query)\n",
    "        query = query.replace('\\n', ' ')\n",
    "        K = get_mean_vector(word2vec_model, query)\n",
    "        return K\n",
    "    def top_n(query, p, df1):\n",
    "        query = preprocessing_input(query)\n",
    "        x = []\n",
    "\n",
    "        for i in range(len(p)):\n",
    "            x.append(cos_sim(query, p[i]))\n",
    "        tmp = list(x)\n",
    "        res = sorted(range(len(x)), key=lambda sub: x[sub])[-10:]\n",
    "        sim = [tmp[i] for i in reversed(res)]\n",
    "        print(sim)\n",
    "\n",
    "        L = []\n",
    "        for i in reversed(res):\n",
    "            L.append(i)\n",
    "        return df1.iloc[L, [1, 2, 5, 6]], sim\n",
    "\n",
    "    model=top_n\n",
    "    if query:\n",
    "        P, sim = model(str(query), K, data)  # storing our output dataframe in P\n",
    "        \n",
    "        # Plotly function to display our dataframe in the form of a plotly table\n",
    "        fig = go.Figure(data=[go.Table(\n",
    "            header=dict(values=['ID', 'Title', 'Abstract', 'Publication Date', 'Score']),\n",
    "            cells=dict(values=[\n",
    "                list(P['Trial ID'].values),\n",
    "                list(P['Title'].values),\n",
    "                list(P['Abstract'].values),\n",
    "                list(P['Publication date'].values),\n",
    "                list(np.around(sim, 4))\n",
    "            ], align=['center', 'right'])\n",
    "        )])\n",
    "    \n",
    "    # Displaying our plotly table\n",
    "        fig.update_layout(height=1700, width=700, margin=dict(l=10, r=10, t=20, b=20))\n",
    "        \n",
    "        st.plotly_chart(fig)  # Get individual results\n",
    "\n",
    "if __name__==\"main\":\n",
    "    main()\n",
    "\n"
   ]
  },
  {
   "cell_type": "code",
   "execution_count": null,
   "metadata": {},
   "outputs": [],
   "source": [
    "!pip freeze>requirements.txt"
   ]
  },
  {
   "cell_type": "code",
   "execution_count": null,
   "metadata": {},
   "outputs": [],
   "source": []
  }
 ],
 "metadata": {
  "kernelspec": {
   "display_name": "Python 3",
   "language": "python",
   "name": "python3"
  },
  "language_info": {
   "codemirror_mode": {
    "name": "ipython",
    "version": 3
   },
   "file_extension": ".py",
   "mimetype": "text/x-python",
   "name": "python",
   "nbconvert_exporter": "python",
   "pygments_lexer": "ipython3",
   "version": "3.8.0"
  }
 },
 "nbformat": 4,
 "nbformat_minor": 4
}
